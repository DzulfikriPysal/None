{
 "cells": [
  {
   "cell_type": "code",
   "execution_count": 1,
   "metadata": {},
   "outputs": [],
   "source": [
    "#import library\n",
    "import plotly.plotly as py\n",
    "import plotly.graph_objs as go\n",
    "import pandas as pd\n",
    "import plotly "
   ]
  },
  {
   "cell_type": "code",
   "execution_count": 7,
   "metadata": {},
   "outputs": [],
   "source": [
    "#credentiol needed to use the plotly library #important\n",
    "plotly .tools.set_credentials_file(username='dzul123', api_key='L1CnOhsXr7u2J4JZ5H7X')"
   ]
  },
  {
   "cell_type": "code",
   "execution_count": 2,
   "metadata": {},
   "outputs": [
    {
     "name": "stdout",
     "output_type": "stream",
     "text": [
      "                                name      pop        lat         lon\n",
      "0                          New York   8287238  40.730599  -73.986581\n",
      "1                       Los Angeles   3826423  34.053717 -118.242727\n",
      "2                           Chicago   2705627  41.875555  -87.624421\n",
      "3                           Houston   2129784  29.758938  -95.367697\n",
      "4                      Philadelphia   1539313  39.952335  -75.163789\n",
      "5                           Phoenix   1465114  33.446768 -112.075672\n",
      "6                       San Antonio   1359174  29.424600  -98.495141\n",
      "7                         San Diego   1321016  32.717421 -117.162771\n",
      "8                            Dallas   1219399  32.776196  -96.796899\n",
      "9                          San Jose    971495  37.343850 -121.883135\n",
      "10                           Austin    839714  30.271129  -97.743700\n",
      "11                     Jacksonville    829543  30.332184  -81.655651\n",
      "12                    Indianapolis     827346  39.768333  -86.158350\n",
      "13                    San Francisco    816239  37.779277 -122.419270\n",
      "14                         Columbus    799270  39.962260  -83.000706\n",
      "15                       Fort Worth    761895  32.753177  -97.332746\n",
      "16                        Charlotte    756204  35.227087  -80.843127\n",
      "17                          Detroit    702149  42.348664  -83.056737\n",
      "18                          El Paso    665503  31.811131 -106.501349\n",
      "19                          Memphis    655975  35.149022  -90.051629\n",
      "20                           Boston    630645  42.360482  -71.059568\n",
      "21                          Seattle    622175  47.603832 -122.330062\n",
      "22                        Baltimore    620889  39.290861  -76.610807\n",
      "23                       Washington    620427  38.894955  -77.036646\n",
      "24                           Denver    619390  39.739154 -104.984703\n",
      "25             Nashville-Davidson      612243  36.187025  -86.780862\n",
      "26    Louisville/Jefferson County      601709  38.209237  -85.703850\n",
      "27                        Milwaukee    597435  43.034993  -87.922497\n",
      "28                         Portland    593859  45.520247 -122.674195\n",
      "29                    Oklahoma City    589896  35.472989  -97.517054\n",
      "...                              ...      ...        ...         ...\n",
      "3198                        Escalon      7208  37.754457 -121.006422\n",
      "3199                   Mount Carmel      7208  38.410880  -87.761417\n",
      "3200                  Alamo Heights      7201  29.484953  -98.465850\n",
      "3201                    Devils Lake      7185  48.112779  -98.865120\n",
      "3202            Midland Park borough     7185  40.989264  -74.140699\n",
      "3203                          Logan      7176  40.107509  -89.376854\n",
      "3204                         Milton      7176  42.249544  -71.066161\n",
      "3205                  Woodland Park      7171  39.009936 -105.045003\n",
      "3206                       Navasota      7170  30.387414  -96.087507\n",
      "3207                        Catoosa      7165  34.891114  -85.131315\n",
      "3208                    Hudsonville      7155  42.870859  -85.865036\n",
      "3209                        Ashland      7153  38.478414  -82.637939\n",
      "3210               Highland Heights      7153  41.551995  -81.478452\n",
      "3211                   Sioux Center      7148  43.079691  -96.175672\n",
      "3212               Glenolden borough     7143  39.900113  -75.289074\n",
      "3213                         Pinson      7142  33.688991  -86.683323\n",
      "3214                   Independence      7137  37.224236  -95.708313\n",
      "3215                      Clewiston      7134  26.754231  -80.933675\n",
      "3216                        Delphos      7128  40.843383  -84.341618\n",
      "3217         University Park village     7127  34.182697 -117.333909\n",
      "3218                          Huron      7122  44.792307  -82.331130\n",
      "3219                      Delafield      7122  43.061028  -88.404069\n",
      "3220                       La Junta      7116  37.985009 -103.543832\n",
      "3221              New Square village     7109  41.167039  -74.043197\n",
      "3222                       Sullivan      7104  36.496667  -82.286903\n",
      "3223                   Spanish Fort      7102  30.674913  -87.915272\n",
      "3224                     Plaquemine      7102  30.289083  -91.234274\n",
      "3225               Milton-Freewater      7102  45.932635 -118.387743\n",
      "3226                         Benton      7096  36.034529  -88.101285\n",
      "3227                     Ocean City      7094  39.277616  -74.574600\n",
      "\n",
      "[3228 rows x 4 columns]\n"
     ]
    }
   ],
   "source": [
    "#capture data from file into python variable\n",
    "df = pd.read_csv('https://raw.githubusercontent.com/plotly/datasets/master/2014_us_cities.csv')\n",
    "df.head()\n",
    "print(df)"
   ]
  },
  {
   "cell_type": "code",
   "execution_count": 3,
   "metadata": {},
   "outputs": [],
   "source": [
    "df['text'] = df['name'] + '<br>Population ' + (df['pop']/1e6).astype(str)+' million'\n",
    "limits = [(0,2),(3,10),(11,20),(21,50),(50,3000)]\n",
    "colors = [\"rgb(0,116,217)\",\"rgb(255,65,54)\",\"rgb(133,20,75)\",\"rgb(255,133,27)\",\"lightgrey\"]\n",
    "cities = []\n",
    "scale = 5000"
   ]
  },
  {
   "cell_type": "code",
   "execution_count": 4,
   "metadata": {},
   "outputs": [],
   "source": [
    "for i in range(len(limits)):\n",
    "    lim = limits[i]\n",
    "    df_sub = df[lim[0]:lim[1]]\n",
    "    city = go.Scattergeo(\n",
    "        locations = ['Malaysia'],\n",
    "        locationmode='country names',\n",
    "        lon = df_sub['lon'],\n",
    "        lat = df_sub['lat'],\n",
    "        text = df_sub['text'],\n",
    "        marker = dict(\n",
    "            size = df_sub['pop']/scale,\n",
    "            color = colors[i],\n",
    "            line = dict(\n",
    "                width=0.5, color='rgb(40,40,40)'\n",
    "            ),\n",
    "            sizemode = 'area'\n",
    "        ),\n",
    "\t\tname = '{0} - {1}'.format(lim[0],lim[1]) )\n",
    "    cities.append(city)"
   ]
  },
  {
   "cell_type": "code",
   "execution_count": 5,
   "metadata": {},
   "outputs": [],
   "source": [
    "#this just the layout of the map. like the distance between the state, land color and what country in the map\n",
    "layout = go.Layout(\n",
    "        title = dict(\n",
    "            text = '2014 US city populations<br>(Click legend to toggle traces)'\n",
    "        ),\n",
    "        showlegend = True,\n",
    "        geo = dict(\n",
    "            scope = 'asia', # scope (enumerated: \"world\" | \"usa\" | \"europe\" | \"asia\" | \"africa\" | \"north america\" | \"south america\" )\n",
    "            projection = dict(\n",
    "                type=''\n",
    "            ),\n",
    "            \n",
    "            showland = True,\n",
    "            landcolor = 'rgb(217, 217, 217)',\n",
    "            subunitwidth=1,\n",
    "            countrywidth=1,\n",
    "            subunitcolor=\"rgb(255, 255, 255)\",\n",
    "            countrycolor=\"rgb(255, 255, 255)\"\n",
    "        )\n",
    "    )"
   ]
  },
  {
   "cell_type": "code",
   "execution_count": 8,
   "metadata": {},
   "outputs": [
    {
     "name": "stdout",
     "output_type": "stream",
     "text": [
      "High five! You successfully sent some data to your account on plotly. View your plot in your browser at https://plot.ly/~dzul123/0 or inside your plot.ly account where it is named 'd3-bubble-map-populations'\n"
     ]
    },
    {
     "name": "stderr",
     "output_type": "stream",
     "text": [
      "C:\\Users\\User 1\\Anaconda3\\lib\\site-packages\\IPython\\core\\display.py:689: UserWarning:\n",
      "\n",
      "Consider using IPython.display.IFrame instead\n",
      "\n"
     ]
    },
    {
     "data": {
      "text/html": [
       "<iframe id=\"igraph\" scrolling=\"no\" style=\"border:none;\" seamless=\"seamless\" src=\"https://plot.ly/~dzul123/0.embed\" height=\"525px\" width=\"100%\"></iframe>"
      ],
      "text/plain": [
       "<plotly.tools.PlotlyDisplay object>"
      ]
     },
     "execution_count": 8,
     "metadata": {},
     "output_type": "execute_result"
    }
   ],
   "source": [
    "fig = go.Figure(data=cities, layout=layout)\n",
    "\n",
    "#online plot\n",
    "py.iplot(fig, filename='d3-bubble-map-populations')"
   ]
  },
  {
   "cell_type": "code",
   "execution_count": 6,
   "metadata": {},
   "outputs": [
    {
     "data": {
      "text/plain": [
       "'file://C:\\\\asd\\\\temp-plot.html'"
      ]
     },
     "execution_count": 6,
     "metadata": {},
     "output_type": "execute_result"
    }
   ],
   "source": [
    "# for offline plot\n",
    "fig = go.Figure(data=cities, layout=layout)\n",
    "from plotly.offline import download_plotlyjs, init_notebook_mode, plot, iplot\n",
    "\n",
    "plot(fig)"
   ]
  },
  {
   "cell_type": "code",
   "execution_count": null,
   "metadata": {},
   "outputs": [],
   "source": []
  },
  {
   "cell_type": "code",
   "execution_count": 11,
   "metadata": {},
   "outputs": [
    {
     "data": {
      "text/plain": [
       "'file://C:\\\\asd\\\\temp-plot.html'"
      ]
     },
     "execution_count": 11,
     "metadata": {},
     "output_type": "execute_result"
    }
   ],
   "source": [
    "'''\n",
    "Run this to see the USA map\n",
    "'''\n",
    "#import library\n",
    "import plotly.plotly as py\n",
    "import plotly.graph_objs as go\n",
    "import pandas as pd\n",
    "import plotly \n",
    "\n",
    "#credentiol needed to use the plotly library #important\n",
    "plotly .tools.set_credentials_file(username='dzul123', api_key='L1CnOhsXr7u2J4JZ5H7X')\n",
    "\n",
    "#capture data from file into python variable\n",
    "df = pd.read_csv('https://raw.githubusercontent.com/plotly/datasets/master/2014_us_cities.csv')\n",
    "df.head()\n",
    "\n",
    "df['text'] = df['name'] + '<br>Population ' + (df['pop']/1e6).astype(str)+' million'\n",
    "limits = [(0,2),(3,10),(11,20),(21,50),(50,3000)]\n",
    "colors = [\"rgb(0,116,217)\",\"rgb(255,65,54)\",\"rgb(133,20,75)\",\"rgb(255,133,27)\",\"lightgrey\"]\n",
    "cities = []\n",
    "scale = 5000\n",
    "\n",
    "for i in range(len(limits)):\n",
    "    lim = limits[i]\n",
    "    df_sub = df[lim[0]:lim[1]]\n",
    "    city = go.Scattergeo(\n",
    "        locationmode='USA-states',\n",
    "        lon = df_sub['lon'],\n",
    "        lat = df_sub['lat'],\n",
    "        text = df_sub['text'],\n",
    "        marker = dict(\n",
    "            size = df_sub['pop']/scale,\n",
    "            color = colors[i],\n",
    "            line = dict(\n",
    "                width=0.5, color='rgb(40,40,40)'\n",
    "            ),\n",
    "            sizemode = 'area'\n",
    "        ),\n",
    "\t\tname = '{0} - {1}'.format(lim[0],lim[1]) )\n",
    "    cities.append(city)\n",
    "    \n",
    "#this just the layout of the map. like the distance between the state, land color and what country in the map\n",
    "layout = go.Layout(\n",
    "        title = dict(\n",
    "            text = '2014 US city populations<br>(Click legend to toggle traces)'\n",
    "        ),\n",
    "        showlegend = True,\n",
    "        geo = dict(\n",
    "            scope = 'asia', # scope (enumerated: \"world\" | \"usa\" | \"europe\" | \"asia\" | \"africa\" | \"north america\" | \"south america\" )\n",
    "            projection = dict(\n",
    "                type='albers usa'\n",
    "            ),\n",
    "            \n",
    "            showland = True,\n",
    "            landcolor = 'rgb(217, 217, 217)',\n",
    "            subunitwidth=1,\n",
    "            countrywidth=1,\n",
    "            subunitcolor=\"rgb(255, 255, 255)\",\n",
    "            countrycolor=\"rgb(255, 255, 255)\"\n",
    "        )\n",
    "    )\n",
    "\n",
    "# for offline plot\n",
    "fig2 = go.Figure(data=cities, layout=layout)\n",
    "from plotly.offline import download_plotlyjs, init_notebook_mode, plot, iplot\n",
    "\n",
    "plot(fig2)"
   ]
  },
  {
   "cell_type": "code",
   "execution_count": null,
   "metadata": {},
   "outputs": [],
   "source": []
  }
 ],
 "metadata": {
  "kernelspec": {
   "display_name": "Python 3",
   "language": "python",
   "name": "python3"
  },
  "language_info": {
   "codemirror_mode": {
    "name": "ipython",
    "version": 3
   },
   "file_extension": ".py",
   "mimetype": "text/x-python",
   "name": "python",
   "nbconvert_exporter": "python",
   "pygments_lexer": "ipython3",
   "version": "3.7.3"
  }
 },
 "nbformat": 4,
 "nbformat_minor": 2
}
